{
  "nbformat": 4,
  "nbformat_minor": 0,
  "metadata": {
    "colab": {
      "name": "pandas Assignment",
      "provenance": [],
      "collapsed_sections": []
    },
    "kernelspec": {
      "name": "python3",
      "display_name": "Python 3"
    },
    "language_info": {
      "name": "python"
    }
  },
  "cells": [
    {
      "cell_type": "code",
      "metadata": {
        "id": "seKdUWSae7LZ"
      },
      "source": [
        ""
      ],
      "execution_count": null,
      "outputs": []
    },
    {
      "cell_type": "markdown",
      "metadata": {
        "id": "pi4l9h2He-hy"
      },
      "source": [
        "Task 1\n",
        "Read the dataset and name is as df"
      ]
    },
    {
      "cell_type": "code",
      "metadata": {
        "id": "uQlSJ5-efCW9"
      },
      "source": [
        "import pandas as pd"
      ],
      "execution_count": 1,
      "outputs": []
    },
    {
      "cell_type": "code",
      "metadata": {
        "id": "skHcpp0ofJzD"
      },
      "source": [
        "df = pd.read_csv('https://raw.githubusercontent.com/dphi-official/Datasets/master/covid_19_data.csv')"
      ],
      "execution_count": 2,
      "outputs": []
    },
    {
      "cell_type": "markdown",
      "metadata": {
        "id": "UMBlek_AfUam"
      },
      "source": [
        "Print first 10 observations of the dataset"
      ]
    },
    {
      "cell_type": "code",
      "metadata": {
        "colab": {
          "base_uri": "https://localhost:8080/",
          "height": 363
        },
        "id": "zcI9ew4YfQ9f",
        "outputId": "e9279287-af55-42a8-c3a6-4640656f6836"
      },
      "source": [
        "df.head(10)"
      ],
      "execution_count": 3,
      "outputs": [
        {
          "output_type": "execute_result",
          "data": {
            "text/html": [
              "<div>\n",
              "<style scoped>\n",
              "    .dataframe tbody tr th:only-of-type {\n",
              "        vertical-align: middle;\n",
              "    }\n",
              "\n",
              "    .dataframe tbody tr th {\n",
              "        vertical-align: top;\n",
              "    }\n",
              "\n",
              "    .dataframe thead th {\n",
              "        text-align: right;\n",
              "    }\n",
              "</style>\n",
              "<table border=\"1\" class=\"dataframe\">\n",
              "  <thead>\n",
              "    <tr style=\"text-align: right;\">\n",
              "      <th></th>\n",
              "      <th>SNo</th>\n",
              "      <th>ObservationDate</th>\n",
              "      <th>Province/State</th>\n",
              "      <th>Country/Region</th>\n",
              "      <th>Last Update</th>\n",
              "      <th>Confirmed</th>\n",
              "      <th>Deaths</th>\n",
              "      <th>Recovered</th>\n",
              "    </tr>\n",
              "  </thead>\n",
              "  <tbody>\n",
              "    <tr>\n",
              "      <th>0</th>\n",
              "      <td>1</td>\n",
              "      <td>01/22/2020</td>\n",
              "      <td>Anhui</td>\n",
              "      <td>Mainland China</td>\n",
              "      <td>1/22/2020 17:00</td>\n",
              "      <td>1.0</td>\n",
              "      <td>0.0</td>\n",
              "      <td>0.0</td>\n",
              "    </tr>\n",
              "    <tr>\n",
              "      <th>1</th>\n",
              "      <td>2</td>\n",
              "      <td>01/22/2020</td>\n",
              "      <td>Beijing</td>\n",
              "      <td>Mainland China</td>\n",
              "      <td>1/22/2020 17:00</td>\n",
              "      <td>14.0</td>\n",
              "      <td>0.0</td>\n",
              "      <td>0.0</td>\n",
              "    </tr>\n",
              "    <tr>\n",
              "      <th>2</th>\n",
              "      <td>3</td>\n",
              "      <td>01/22/2020</td>\n",
              "      <td>Chongqing</td>\n",
              "      <td>Mainland China</td>\n",
              "      <td>1/22/2020 17:00</td>\n",
              "      <td>6.0</td>\n",
              "      <td>0.0</td>\n",
              "      <td>0.0</td>\n",
              "    </tr>\n",
              "    <tr>\n",
              "      <th>3</th>\n",
              "      <td>4</td>\n",
              "      <td>01/22/2020</td>\n",
              "      <td>Fujian</td>\n",
              "      <td>Mainland China</td>\n",
              "      <td>1/22/2020 17:00</td>\n",
              "      <td>1.0</td>\n",
              "      <td>0.0</td>\n",
              "      <td>0.0</td>\n",
              "    </tr>\n",
              "    <tr>\n",
              "      <th>4</th>\n",
              "      <td>5</td>\n",
              "      <td>01/22/2020</td>\n",
              "      <td>Gansu</td>\n",
              "      <td>Mainland China</td>\n",
              "      <td>1/22/2020 17:00</td>\n",
              "      <td>0.0</td>\n",
              "      <td>0.0</td>\n",
              "      <td>0.0</td>\n",
              "    </tr>\n",
              "    <tr>\n",
              "      <th>5</th>\n",
              "      <td>6</td>\n",
              "      <td>01/22/2020</td>\n",
              "      <td>Guangdong</td>\n",
              "      <td>Mainland China</td>\n",
              "      <td>1/22/2020 17:00</td>\n",
              "      <td>26.0</td>\n",
              "      <td>0.0</td>\n",
              "      <td>0.0</td>\n",
              "    </tr>\n",
              "    <tr>\n",
              "      <th>6</th>\n",
              "      <td>7</td>\n",
              "      <td>01/22/2020</td>\n",
              "      <td>Guangxi</td>\n",
              "      <td>Mainland China</td>\n",
              "      <td>1/22/2020 17:00</td>\n",
              "      <td>2.0</td>\n",
              "      <td>0.0</td>\n",
              "      <td>0.0</td>\n",
              "    </tr>\n",
              "    <tr>\n",
              "      <th>7</th>\n",
              "      <td>8</td>\n",
              "      <td>01/22/2020</td>\n",
              "      <td>Guizhou</td>\n",
              "      <td>Mainland China</td>\n",
              "      <td>1/22/2020 17:00</td>\n",
              "      <td>1.0</td>\n",
              "      <td>0.0</td>\n",
              "      <td>0.0</td>\n",
              "    </tr>\n",
              "    <tr>\n",
              "      <th>8</th>\n",
              "      <td>9</td>\n",
              "      <td>01/22/2020</td>\n",
              "      <td>Hainan</td>\n",
              "      <td>Mainland China</td>\n",
              "      <td>1/22/2020 17:00</td>\n",
              "      <td>4.0</td>\n",
              "      <td>0.0</td>\n",
              "      <td>0.0</td>\n",
              "    </tr>\n",
              "    <tr>\n",
              "      <th>9</th>\n",
              "      <td>10</td>\n",
              "      <td>01/22/2020</td>\n",
              "      <td>Hebei</td>\n",
              "      <td>Mainland China</td>\n",
              "      <td>1/22/2020 17:00</td>\n",
              "      <td>1.0</td>\n",
              "      <td>0.0</td>\n",
              "      <td>0.0</td>\n",
              "    </tr>\n",
              "  </tbody>\n",
              "</table>\n",
              "</div>"
            ],
            "text/plain": [
              "   SNo ObservationDate Province/State  ... Confirmed Deaths  Recovered\n",
              "0    1      01/22/2020          Anhui  ...       1.0    0.0        0.0\n",
              "1    2      01/22/2020        Beijing  ...      14.0    0.0        0.0\n",
              "2    3      01/22/2020      Chongqing  ...       6.0    0.0        0.0\n",
              "3    4      01/22/2020         Fujian  ...       1.0    0.0        0.0\n",
              "4    5      01/22/2020          Gansu  ...       0.0    0.0        0.0\n",
              "5    6      01/22/2020      Guangdong  ...      26.0    0.0        0.0\n",
              "6    7      01/22/2020        Guangxi  ...       2.0    0.0        0.0\n",
              "7    8      01/22/2020        Guizhou  ...       1.0    0.0        0.0\n",
              "8    9      01/22/2020         Hainan  ...       4.0    0.0        0.0\n",
              "9   10      01/22/2020          Hebei  ...       1.0    0.0        0.0\n",
              "\n",
              "[10 rows x 8 columns]"
            ]
          },
          "metadata": {},
          "execution_count": 3
        }
      ]
    },
    {
      "cell_type": "markdown",
      "metadata": {
        "id": "QqlMBMegfaUd"
      },
      "source": [
        "Check for the data types of the all the variables in the dataset"
      ]
    },
    {
      "cell_type": "code",
      "metadata": {
        "colab": {
          "base_uri": "https://localhost:8080/"
        },
        "id": "uiNCelzSfbP6",
        "outputId": "8693e5f9-dd01-4065-ad8e-8a74c20814f3"
      },
      "source": [
        "df.dtypes"
      ],
      "execution_count": 5,
      "outputs": [
        {
          "output_type": "execute_result",
          "data": {
            "text/plain": [
              "SNo                  int64\n",
              "ObservationDate     object\n",
              "Province/State      object\n",
              "Country/Region      object\n",
              "Last Update         object\n",
              "Confirmed          float64\n",
              "Deaths             float64\n",
              "Recovered          float64\n",
              "dtype: object"
            ]
          },
          "metadata": {},
          "execution_count": 5
        }
      ]
    },
    {
      "cell_type": "markdown",
      "metadata": {
        "id": "VDBssTWufgES"
      },
      "source": [
        "Convert columns ['ObservationDate'] and ['Last Update'] to from object to datatime data type."
      ]
    },
    {
      "cell_type": "code",
      "metadata": {
        "colab": {
          "base_uri": "https://localhost:8080/"
        },
        "id": "U0Z77kUpflNU",
        "outputId": "6a1e402e-cbc5-429e-c203-9b5026daaea8"
      },
      "source": [
        "df.shape"
      ],
      "execution_count": 6,
      "outputs": [
        {
          "output_type": "execute_result",
          "data": {
            "text/plain": [
              "(40805, 8)"
            ]
          },
          "metadata": {},
          "execution_count": 6
        }
      ]
    },
    {
      "cell_type": "code",
      "metadata": {
        "id": "tUQlgJM6g53g"
      },
      "source": [
        "df['ObservationDate'] = pd.to_datetime(df['ObservationDate'])\n"
      ],
      "execution_count": 7,
      "outputs": []
    },
    {
      "cell_type": "code",
      "metadata": {
        "id": "thUqEVEDhSga"
      },
      "source": [
        "df['Last Update'] = pd.to_datetime(df['Last Update'])"
      ],
      "execution_count": 8,
      "outputs": []
    },
    {
      "cell_type": "code",
      "metadata": {
        "colab": {
          "base_uri": "https://localhost:8080/"
        },
        "id": "PU9yuwTYhaxK",
        "outputId": "0aa3e082-d5e5-4403-e575-80da10174755"
      },
      "source": [
        "df.dtypes"
      ],
      "execution_count": 9,
      "outputs": [
        {
          "output_type": "execute_result",
          "data": {
            "text/plain": [
              "SNo                         int64\n",
              "ObservationDate    datetime64[ns]\n",
              "Province/State             object\n",
              "Country/Region             object\n",
              "Last Update        datetime64[ns]\n",
              "Confirmed                 float64\n",
              "Deaths                    float64\n",
              "Recovered                 float64\n",
              "dtype: object"
            ]
          },
          "metadata": {},
          "execution_count": 9
        }
      ]
    },
    {
      "cell_type": "code",
      "metadata": {
        "id": "hEQy67x3wcE_"
      },
      "source": [
        ""
      ],
      "execution_count": 20,
      "outputs": []
    },
    {
      "cell_type": "markdown",
      "metadata": {
        "id": "NpVtvP-jhjHf"
      },
      "source": [
        "Task 2\n",
        "Create a subset of the data df, only taking observations which was last updated on 2020-06-13 03:33:14 and name this dataframe as updated_data."
      ]
    },
    {
      "cell_type": "code",
      "metadata": {
        "id": "aevRTEwXhmPp"
      },
      "source": [
        "df = pd.read_csv('https://raw.githubusercontent.com/dphi-official/Datasets/master/covid_19_data.csv')"
      ],
      "execution_count": 10,
      "outputs": []
    },
    {
      "cell_type": "code",
      "metadata": {
        "colab": {
          "base_uri": "https://localhost:8080/",
          "height": 206
        },
        "id": "v0Ni5jPShMW1",
        "outputId": "df82b8ac-893c-43b3-a39f-92d9f411f31c"
      },
      "source": [
        "df.head()"
      ],
      "execution_count": 11,
      "outputs": [
        {
          "output_type": "execute_result",
          "data": {
            "text/html": [
              "<div>\n",
              "<style scoped>\n",
              "    .dataframe tbody tr th:only-of-type {\n",
              "        vertical-align: middle;\n",
              "    }\n",
              "\n",
              "    .dataframe tbody tr th {\n",
              "        vertical-align: top;\n",
              "    }\n",
              "\n",
              "    .dataframe thead th {\n",
              "        text-align: right;\n",
              "    }\n",
              "</style>\n",
              "<table border=\"1\" class=\"dataframe\">\n",
              "  <thead>\n",
              "    <tr style=\"text-align: right;\">\n",
              "      <th></th>\n",
              "      <th>SNo</th>\n",
              "      <th>ObservationDate</th>\n",
              "      <th>Province/State</th>\n",
              "      <th>Country/Region</th>\n",
              "      <th>Last Update</th>\n",
              "      <th>Confirmed</th>\n",
              "      <th>Deaths</th>\n",
              "      <th>Recovered</th>\n",
              "    </tr>\n",
              "  </thead>\n",
              "  <tbody>\n",
              "    <tr>\n",
              "      <th>0</th>\n",
              "      <td>1</td>\n",
              "      <td>01/22/2020</td>\n",
              "      <td>Anhui</td>\n",
              "      <td>Mainland China</td>\n",
              "      <td>1/22/2020 17:00</td>\n",
              "      <td>1.0</td>\n",
              "      <td>0.0</td>\n",
              "      <td>0.0</td>\n",
              "    </tr>\n",
              "    <tr>\n",
              "      <th>1</th>\n",
              "      <td>2</td>\n",
              "      <td>01/22/2020</td>\n",
              "      <td>Beijing</td>\n",
              "      <td>Mainland China</td>\n",
              "      <td>1/22/2020 17:00</td>\n",
              "      <td>14.0</td>\n",
              "      <td>0.0</td>\n",
              "      <td>0.0</td>\n",
              "    </tr>\n",
              "    <tr>\n",
              "      <th>2</th>\n",
              "      <td>3</td>\n",
              "      <td>01/22/2020</td>\n",
              "      <td>Chongqing</td>\n",
              "      <td>Mainland China</td>\n",
              "      <td>1/22/2020 17:00</td>\n",
              "      <td>6.0</td>\n",
              "      <td>0.0</td>\n",
              "      <td>0.0</td>\n",
              "    </tr>\n",
              "    <tr>\n",
              "      <th>3</th>\n",
              "      <td>4</td>\n",
              "      <td>01/22/2020</td>\n",
              "      <td>Fujian</td>\n",
              "      <td>Mainland China</td>\n",
              "      <td>1/22/2020 17:00</td>\n",
              "      <td>1.0</td>\n",
              "      <td>0.0</td>\n",
              "      <td>0.0</td>\n",
              "    </tr>\n",
              "    <tr>\n",
              "      <th>4</th>\n",
              "      <td>5</td>\n",
              "      <td>01/22/2020</td>\n",
              "      <td>Gansu</td>\n",
              "      <td>Mainland China</td>\n",
              "      <td>1/22/2020 17:00</td>\n",
              "      <td>0.0</td>\n",
              "      <td>0.0</td>\n",
              "      <td>0.0</td>\n",
              "    </tr>\n",
              "  </tbody>\n",
              "</table>\n",
              "</div>"
            ],
            "text/plain": [
              "   SNo ObservationDate Province/State  ... Confirmed Deaths  Recovered\n",
              "0    1      01/22/2020          Anhui  ...       1.0    0.0        0.0\n",
              "1    2      01/22/2020        Beijing  ...      14.0    0.0        0.0\n",
              "2    3      01/22/2020      Chongqing  ...       6.0    0.0        0.0\n",
              "3    4      01/22/2020         Fujian  ...       1.0    0.0        0.0\n",
              "4    5      01/22/2020          Gansu  ...       0.0    0.0        0.0\n",
              "\n",
              "[5 rows x 8 columns]"
            ]
          },
          "metadata": {},
          "execution_count": 11
        }
      ]
    },
    {
      "cell_type": "code",
      "metadata": {
        "colab": {
          "base_uri": "https://localhost:8080/",
          "height": 424
        },
        "id": "eznNUz3U38Fr",
        "outputId": "a0bb6bb3-fb52-47fa-ca6a-12d97496c2bf"
      },
      "source": [
        "df.tail(729)"
      ],
      "execution_count": 77,
      "outputs": [
        {
          "output_type": "execute_result",
          "data": {
            "text/html": [
              "<div>\n",
              "<style scoped>\n",
              "    .dataframe tbody tr th:only-of-type {\n",
              "        vertical-align: middle;\n",
              "    }\n",
              "\n",
              "    .dataframe tbody tr th {\n",
              "        vertical-align: top;\n",
              "    }\n",
              "\n",
              "    .dataframe thead th {\n",
              "        text-align: right;\n",
              "    }\n",
              "</style>\n",
              "<table border=\"1\" class=\"dataframe\">\n",
              "  <thead>\n",
              "    <tr style=\"text-align: right;\">\n",
              "      <th></th>\n",
              "      <th>SNo</th>\n",
              "      <th>ObservationDate</th>\n",
              "      <th>Province/State</th>\n",
              "      <th>Country/Region</th>\n",
              "      <th>Last Update</th>\n",
              "      <th>Confirmed</th>\n",
              "      <th>Deaths</th>\n",
              "      <th>Recovered</th>\n",
              "    </tr>\n",
              "  </thead>\n",
              "  <tbody>\n",
              "    <tr>\n",
              "      <th>40076</th>\n",
              "      <td>40077</td>\n",
              "      <td>06/12/2020</td>\n",
              "      <td>NaN</td>\n",
              "      <td>Afghanistan</td>\n",
              "      <td>2020-06-13 03:33:14</td>\n",
              "      <td>23546.0</td>\n",
              "      <td>446.0</td>\n",
              "      <td>3928.0</td>\n",
              "    </tr>\n",
              "    <tr>\n",
              "      <th>40077</th>\n",
              "      <td>40078</td>\n",
              "      <td>06/12/2020</td>\n",
              "      <td>NaN</td>\n",
              "      <td>Albania</td>\n",
              "      <td>2020-06-13 03:33:14</td>\n",
              "      <td>1416.0</td>\n",
              "      <td>36.0</td>\n",
              "      <td>1034.0</td>\n",
              "    </tr>\n",
              "    <tr>\n",
              "      <th>40078</th>\n",
              "      <td>40079</td>\n",
              "      <td>06/12/2020</td>\n",
              "      <td>NaN</td>\n",
              "      <td>Algeria</td>\n",
              "      <td>2020-06-13 03:33:14</td>\n",
              "      <td>10698.0</td>\n",
              "      <td>751.0</td>\n",
              "      <td>7322.0</td>\n",
              "    </tr>\n",
              "    <tr>\n",
              "      <th>40079</th>\n",
              "      <td>40080</td>\n",
              "      <td>06/12/2020</td>\n",
              "      <td>NaN</td>\n",
              "      <td>Andorra</td>\n",
              "      <td>2020-06-13 03:33:14</td>\n",
              "      <td>853.0</td>\n",
              "      <td>51.0</td>\n",
              "      <td>781.0</td>\n",
              "    </tr>\n",
              "    <tr>\n",
              "      <th>40080</th>\n",
              "      <td>40081</td>\n",
              "      <td>06/12/2020</td>\n",
              "      <td>NaN</td>\n",
              "      <td>Angola</td>\n",
              "      <td>2020-06-13 03:33:14</td>\n",
              "      <td>130.0</td>\n",
              "      <td>5.0</td>\n",
              "      <td>42.0</td>\n",
              "    </tr>\n",
              "    <tr>\n",
              "      <th>...</th>\n",
              "      <td>...</td>\n",
              "      <td>...</td>\n",
              "      <td>...</td>\n",
              "      <td>...</td>\n",
              "      <td>...</td>\n",
              "      <td>...</td>\n",
              "      <td>...</td>\n",
              "      <td>...</td>\n",
              "    </tr>\n",
              "    <tr>\n",
              "      <th>40800</th>\n",
              "      <td>40801</td>\n",
              "      <td>06/12/2020</td>\n",
              "      <td>Zacatecas</td>\n",
              "      <td>Mexico</td>\n",
              "      <td>2020-06-13 03:33:14</td>\n",
              "      <td>501.0</td>\n",
              "      <td>55.0</td>\n",
              "      <td>279.0</td>\n",
              "    </tr>\n",
              "    <tr>\n",
              "      <th>40801</th>\n",
              "      <td>40802</td>\n",
              "      <td>06/12/2020</td>\n",
              "      <td>Zakarpattia Oblast</td>\n",
              "      <td>Ukraine</td>\n",
              "      <td>2020-06-13 03:33:14</td>\n",
              "      <td>1506.0</td>\n",
              "      <td>38.0</td>\n",
              "      <td>675.0</td>\n",
              "    </tr>\n",
              "    <tr>\n",
              "      <th>40802</th>\n",
              "      <td>40803</td>\n",
              "      <td>06/12/2020</td>\n",
              "      <td>Zaporizhia Oblast</td>\n",
              "      <td>Ukraine</td>\n",
              "      <td>2020-06-13 03:33:14</td>\n",
              "      <td>515.0</td>\n",
              "      <td>15.0</td>\n",
              "      <td>322.0</td>\n",
              "    </tr>\n",
              "    <tr>\n",
              "      <th>40803</th>\n",
              "      <td>40804</td>\n",
              "      <td>06/12/2020</td>\n",
              "      <td>Zhejiang</td>\n",
              "      <td>Mainland China</td>\n",
              "      <td>2020-06-13 03:33:14</td>\n",
              "      <td>1268.0</td>\n",
              "      <td>1.0</td>\n",
              "      <td>1267.0</td>\n",
              "    </tr>\n",
              "    <tr>\n",
              "      <th>40804</th>\n",
              "      <td>40805</td>\n",
              "      <td>06/12/2020</td>\n",
              "      <td>Zhytomyr Oblast</td>\n",
              "      <td>Ukraine</td>\n",
              "      <td>2020-06-13 03:33:14</td>\n",
              "      <td>1013.0</td>\n",
              "      <td>17.0</td>\n",
              "      <td>527.0</td>\n",
              "    </tr>\n",
              "  </tbody>\n",
              "</table>\n",
              "<p>729 rows × 8 columns</p>\n",
              "</div>"
            ],
            "text/plain": [
              "         SNo ObservationDate      Province/State  ... Confirmed Deaths  Recovered\n",
              "40076  40077      06/12/2020                 NaN  ...   23546.0  446.0     3928.0\n",
              "40077  40078      06/12/2020                 NaN  ...    1416.0   36.0     1034.0\n",
              "40078  40079      06/12/2020                 NaN  ...   10698.0  751.0     7322.0\n",
              "40079  40080      06/12/2020                 NaN  ...     853.0   51.0      781.0\n",
              "40080  40081      06/12/2020                 NaN  ...     130.0    5.0       42.0\n",
              "...      ...             ...                 ...  ...       ...    ...        ...\n",
              "40800  40801      06/12/2020           Zacatecas  ...     501.0   55.0      279.0\n",
              "40801  40802      06/12/2020  Zakarpattia Oblast  ...    1506.0   38.0      675.0\n",
              "40802  40803      06/12/2020   Zaporizhia Oblast  ...     515.0   15.0      322.0\n",
              "40803  40804      06/12/2020            Zhejiang  ...    1268.0    1.0     1267.0\n",
              "40804  40805      06/12/2020     Zhytomyr Oblast  ...    1013.0   17.0      527.0\n",
              "\n",
              "[729 rows x 8 columns]"
            ]
          },
          "metadata": {},
          "execution_count": 77
        }
      ]
    },
    {
      "cell_type": "code",
      "metadata": {
        "colab": {
          "base_uri": "https://localhost:8080/"
        },
        "id": "IrkluidxiZcA",
        "outputId": "5c728d0f-3ae6-435f-f887-78d48c23c392"
      },
      "source": [
        "df['Last Update'].unique"
      ],
      "execution_count": 12,
      "outputs": [
        {
          "output_type": "execute_result",
          "data": {
            "text/plain": [
              "<bound method Series.unique of 0            1/22/2020 17:00\n",
              "1            1/22/2020 17:00\n",
              "2            1/22/2020 17:00\n",
              "3            1/22/2020 17:00\n",
              "4            1/22/2020 17:00\n",
              "                ...         \n",
              "40800    2020-06-13 03:33:14\n",
              "40801    2020-06-13 03:33:14\n",
              "40802    2020-06-13 03:33:14\n",
              "40803    2020-06-13 03:33:14\n",
              "40804    2020-06-13 03:33:14\n",
              "Name: Last Update, Length: 40805, dtype: object>"
            ]
          },
          "metadata": {},
          "execution_count": 12
        }
      ]
    },
    {
      "cell_type": "code",
      "metadata": {
        "id": "ZzTvHTIgx-SB"
      },
      "source": [
        "updated_data = (df['Last Update'] == '2020-06-13 03:33:14')"
      ],
      "execution_count": 41,
      "outputs": []
    },
    {
      "cell_type": "code",
      "metadata": {
        "colab": {
          "base_uri": "https://localhost:8080/"
        },
        "id": "oQWK8cQCyT5D",
        "outputId": "4ce29a1a-7f8f-49ac-cf38-428fd4258f2c"
      },
      "source": [
        "updated_data.value_counts()"
      ],
      "execution_count": 33,
      "outputs": [
        {
          "output_type": "execute_result",
          "data": {
            "text/plain": [
              "False    40076\n",
              "True       729\n",
              "Name: Last Update, dtype: int64"
            ]
          },
          "metadata": {},
          "execution_count": 33
        }
      ]
    },
    {
      "cell_type": "markdown",
      "metadata": {
        "id": "8tZOBvwZydj4"
      },
      "source": [
        "Print the total no. of observations and unique country records in updated_data"
      ]
    },
    {
      "cell_type": "code",
      "metadata": {
        "colab": {
          "base_uri": "https://localhost:8080/",
          "height": 424
        },
        "id": "Ola7HTBv4emN",
        "outputId": "f9b9ecae-b880-4a0c-a65a-63dd5c55c9ce"
      },
      "source": [
        "updated_data=  df.loc[40076:40804,['Last Update', 'Country/Region', 'Confirmed', 'Deaths', 'Recovered']]\n",
        "updated_data"
      ],
      "execution_count": 88,
      "outputs": [
        {
          "output_type": "execute_result",
          "data": {
            "text/html": [
              "<div>\n",
              "<style scoped>\n",
              "    .dataframe tbody tr th:only-of-type {\n",
              "        vertical-align: middle;\n",
              "    }\n",
              "\n",
              "    .dataframe tbody tr th {\n",
              "        vertical-align: top;\n",
              "    }\n",
              "\n",
              "    .dataframe thead th {\n",
              "        text-align: right;\n",
              "    }\n",
              "</style>\n",
              "<table border=\"1\" class=\"dataframe\">\n",
              "  <thead>\n",
              "    <tr style=\"text-align: right;\">\n",
              "      <th></th>\n",
              "      <th>Last Update</th>\n",
              "      <th>Country/Region</th>\n",
              "      <th>Confirmed</th>\n",
              "      <th>Deaths</th>\n",
              "      <th>Recovered</th>\n",
              "    </tr>\n",
              "  </thead>\n",
              "  <tbody>\n",
              "    <tr>\n",
              "      <th>40076</th>\n",
              "      <td>2020-06-13 03:33:14</td>\n",
              "      <td>Afghanistan</td>\n",
              "      <td>23546.0</td>\n",
              "      <td>446.0</td>\n",
              "      <td>3928.0</td>\n",
              "    </tr>\n",
              "    <tr>\n",
              "      <th>40077</th>\n",
              "      <td>2020-06-13 03:33:14</td>\n",
              "      <td>Albania</td>\n",
              "      <td>1416.0</td>\n",
              "      <td>36.0</td>\n",
              "      <td>1034.0</td>\n",
              "    </tr>\n",
              "    <tr>\n",
              "      <th>40078</th>\n",
              "      <td>2020-06-13 03:33:14</td>\n",
              "      <td>Algeria</td>\n",
              "      <td>10698.0</td>\n",
              "      <td>751.0</td>\n",
              "      <td>7322.0</td>\n",
              "    </tr>\n",
              "    <tr>\n",
              "      <th>40079</th>\n",
              "      <td>2020-06-13 03:33:14</td>\n",
              "      <td>Andorra</td>\n",
              "      <td>853.0</td>\n",
              "      <td>51.0</td>\n",
              "      <td>781.0</td>\n",
              "    </tr>\n",
              "    <tr>\n",
              "      <th>40080</th>\n",
              "      <td>2020-06-13 03:33:14</td>\n",
              "      <td>Angola</td>\n",
              "      <td>130.0</td>\n",
              "      <td>5.0</td>\n",
              "      <td>42.0</td>\n",
              "    </tr>\n",
              "    <tr>\n",
              "      <th>...</th>\n",
              "      <td>...</td>\n",
              "      <td>...</td>\n",
              "      <td>...</td>\n",
              "      <td>...</td>\n",
              "      <td>...</td>\n",
              "    </tr>\n",
              "    <tr>\n",
              "      <th>40800</th>\n",
              "      <td>2020-06-13 03:33:14</td>\n",
              "      <td>Mexico</td>\n",
              "      <td>501.0</td>\n",
              "      <td>55.0</td>\n",
              "      <td>279.0</td>\n",
              "    </tr>\n",
              "    <tr>\n",
              "      <th>40801</th>\n",
              "      <td>2020-06-13 03:33:14</td>\n",
              "      <td>Ukraine</td>\n",
              "      <td>1506.0</td>\n",
              "      <td>38.0</td>\n",
              "      <td>675.0</td>\n",
              "    </tr>\n",
              "    <tr>\n",
              "      <th>40802</th>\n",
              "      <td>2020-06-13 03:33:14</td>\n",
              "      <td>Ukraine</td>\n",
              "      <td>515.0</td>\n",
              "      <td>15.0</td>\n",
              "      <td>322.0</td>\n",
              "    </tr>\n",
              "    <tr>\n",
              "      <th>40803</th>\n",
              "      <td>2020-06-13 03:33:14</td>\n",
              "      <td>Mainland China</td>\n",
              "      <td>1268.0</td>\n",
              "      <td>1.0</td>\n",
              "      <td>1267.0</td>\n",
              "    </tr>\n",
              "    <tr>\n",
              "      <th>40804</th>\n",
              "      <td>2020-06-13 03:33:14</td>\n",
              "      <td>Ukraine</td>\n",
              "      <td>1013.0</td>\n",
              "      <td>17.0</td>\n",
              "      <td>527.0</td>\n",
              "    </tr>\n",
              "  </tbody>\n",
              "</table>\n",
              "<p>729 rows × 5 columns</p>\n",
              "</div>"
            ],
            "text/plain": [
              "               Last Update  Country/Region  Confirmed  Deaths  Recovered\n",
              "40076  2020-06-13 03:33:14     Afghanistan    23546.0   446.0     3928.0\n",
              "40077  2020-06-13 03:33:14         Albania     1416.0    36.0     1034.0\n",
              "40078  2020-06-13 03:33:14         Algeria    10698.0   751.0     7322.0\n",
              "40079  2020-06-13 03:33:14         Andorra      853.0    51.0      781.0\n",
              "40080  2020-06-13 03:33:14          Angola      130.0     5.0       42.0\n",
              "...                    ...             ...        ...     ...        ...\n",
              "40800  2020-06-13 03:33:14          Mexico      501.0    55.0      279.0\n",
              "40801  2020-06-13 03:33:14         Ukraine     1506.0    38.0      675.0\n",
              "40802  2020-06-13 03:33:14         Ukraine      515.0    15.0      322.0\n",
              "40803  2020-06-13 03:33:14  Mainland China     1268.0     1.0     1267.0\n",
              "40804  2020-06-13 03:33:14         Ukraine     1013.0    17.0      527.0\n",
              "\n",
              "[729 rows x 5 columns]"
            ]
          },
          "metadata": {},
          "execution_count": 88
        }
      ]
    },
    {
      "cell_type": "code",
      "metadata": {
        "colab": {
          "base_uri": "https://localhost:8080/"
        },
        "id": "SOm_6g494kSK",
        "outputId": "68f635b1-da69-4043-d279-390a4298e689"
      },
      "source": [
        "updated_data['Country/Region'].unique()\n"
      ],
      "execution_count": 89,
      "outputs": [
        {
          "output_type": "execute_result",
          "data": {
            "text/plain": [
              "array(['Afghanistan', 'Albania', 'Algeria', 'Andorra', 'Angola',\n",
              "       'Antigua and Barbuda', 'Argentina', 'Armenia', 'Austria',\n",
              "       'Azerbaijan', 'Bahamas', 'Bahrain', 'Bangladesh', 'Barbados',\n",
              "       'Belarus', 'Belgium', 'Belize', 'Benin', 'Bhutan', 'Bolivia',\n",
              "       'Bosnia and Herzegovina', 'Botswana', 'Brunei', 'Bulgaria',\n",
              "       'Burkina Faso', 'Burma', 'Burundi', 'Cabo Verde', 'Cambodia',\n",
              "       'Cameroon', 'Central African Republic', 'Chad', 'Comoros',\n",
              "       'Congo (Brazzaville)', 'Congo (Kinshasa)', 'Costa Rica', 'Croatia',\n",
              "       'Cuba', 'Cyprus', 'Czech Republic', 'Denmark', 'Diamond Princess',\n",
              "       'Djibouti', 'Dominica', 'Dominican Republic', 'Ecuador', 'Egypt',\n",
              "       'El Salvador', 'Equatorial Guinea', 'Eritrea', 'Estonia',\n",
              "       'Eswatini', 'Ethiopia', 'Fiji', 'Finland', 'France', 'Gabon',\n",
              "       'Gambia', 'Georgia', 'Ghana', 'Greece', 'Grenada', 'Guatemala',\n",
              "       'Guinea', 'Guinea-Bissau', 'Guyana', 'Haiti', 'Holy See',\n",
              "       'Honduras', 'Hungary', 'Iceland', 'Indonesia', 'Iran', 'Iraq',\n",
              "       'Ireland', 'Israel', 'Ivory Coast', 'Jamaica', 'Jordan',\n",
              "       'Kazakhstan', 'Kenya', 'Kosovo', 'Kuwait', 'Kyrgyzstan', 'Laos',\n",
              "       'Latvia', 'Lebanon', 'Lesotho', 'Liberia', 'Libya',\n",
              "       'Liechtenstein', 'Lithuania', 'Luxembourg', 'MS Zaandam',\n",
              "       'Madagascar', 'Malawi', 'Malaysia', 'Maldives', 'Mali', 'Malta',\n",
              "       'Mauritania', 'Mauritius', 'Moldova', 'Monaco', 'Mongolia',\n",
              "       'Montenegro', 'Morocco', 'Mozambique', 'Namibia', 'Nepal',\n",
              "       'Netherlands', 'New Zealand', 'Nicaragua', 'Niger', 'Nigeria',\n",
              "       'North Macedonia', 'Norway', 'Oman', 'Panama', 'Papua New Guinea',\n",
              "       'Paraguay', 'Philippines', 'Poland', 'Portugal', 'Qatar',\n",
              "       'Romania', 'Rwanda', 'Saint Kitts and Nevis', 'Saint Lucia',\n",
              "       'Saint Vincent and the Grenadines', 'San Marino',\n",
              "       'Sao Tome and Principe', 'Saudi Arabia', 'Senegal', 'Serbia',\n",
              "       'Seychelles', 'Sierra Leone', 'Singapore', 'Slovakia', 'Slovenia',\n",
              "       'Somalia', 'South Africa', 'South Korea', 'South Sudan',\n",
              "       'Sri Lanka', 'Sudan', 'Suriname', 'Switzerland', 'Syria', 'Taiwan',\n",
              "       'Tajikistan', 'Tanzania', 'Thailand', 'Timor-Leste', 'Togo',\n",
              "       'Trinidad and Tobago', 'Tunisia', 'Turkey', 'Uganda',\n",
              "       'United Arab Emirates', 'Uruguay', 'Uzbekistan', 'Venezuela',\n",
              "       'Vietnam', 'West Bank and Gaza', 'Western Sahara', 'Yemen',\n",
              "       'Zambia', 'Zimbabwe', 'Italy', 'Brazil', 'Russia', 'Mexico',\n",
              "       'Japan', 'US', 'Canada', 'Colombia', 'Peru', 'Spain', 'India',\n",
              "       'UK', 'Mainland China', 'Chile', 'Australia', 'Pakistan',\n",
              "       'Germany', 'Sweden', 'Ukraine', 'Hong Kong', 'Macau'], dtype=object)"
            ]
          },
          "metadata": {},
          "execution_count": 89
        }
      ]
    },
    {
      "cell_type": "code",
      "metadata": {
        "colab": {
          "base_uri": "https://localhost:8080/",
          "height": 424
        },
        "id": "MFPAci6T0liS",
        "outputId": "5efcb10f-efa6-4d5b-b494-f055f2b227e2"
      },
      "source": [
        "a = df.tail(729)\n",
        "a"
      ],
      "execution_count": 49,
      "outputs": [
        {
          "output_type": "execute_result",
          "data": {
            "text/html": [
              "<div>\n",
              "<style scoped>\n",
              "    .dataframe tbody tr th:only-of-type {\n",
              "        vertical-align: middle;\n",
              "    }\n",
              "\n",
              "    .dataframe tbody tr th {\n",
              "        vertical-align: top;\n",
              "    }\n",
              "\n",
              "    .dataframe thead th {\n",
              "        text-align: right;\n",
              "    }\n",
              "</style>\n",
              "<table border=\"1\" class=\"dataframe\">\n",
              "  <thead>\n",
              "    <tr style=\"text-align: right;\">\n",
              "      <th></th>\n",
              "      <th>SNo</th>\n",
              "      <th>ObservationDate</th>\n",
              "      <th>Province/State</th>\n",
              "      <th>Country/Region</th>\n",
              "      <th>Last Update</th>\n",
              "      <th>Confirmed</th>\n",
              "      <th>Deaths</th>\n",
              "      <th>Recovered</th>\n",
              "    </tr>\n",
              "  </thead>\n",
              "  <tbody>\n",
              "    <tr>\n",
              "      <th>40076</th>\n",
              "      <td>40077</td>\n",
              "      <td>06/12/2020</td>\n",
              "      <td>NaN</td>\n",
              "      <td>Afghanistan</td>\n",
              "      <td>2020-06-13 03:33:14</td>\n",
              "      <td>23546.0</td>\n",
              "      <td>446.0</td>\n",
              "      <td>3928.0</td>\n",
              "    </tr>\n",
              "    <tr>\n",
              "      <th>40077</th>\n",
              "      <td>40078</td>\n",
              "      <td>06/12/2020</td>\n",
              "      <td>NaN</td>\n",
              "      <td>Albania</td>\n",
              "      <td>2020-06-13 03:33:14</td>\n",
              "      <td>1416.0</td>\n",
              "      <td>36.0</td>\n",
              "      <td>1034.0</td>\n",
              "    </tr>\n",
              "    <tr>\n",
              "      <th>40078</th>\n",
              "      <td>40079</td>\n",
              "      <td>06/12/2020</td>\n",
              "      <td>NaN</td>\n",
              "      <td>Algeria</td>\n",
              "      <td>2020-06-13 03:33:14</td>\n",
              "      <td>10698.0</td>\n",
              "      <td>751.0</td>\n",
              "      <td>7322.0</td>\n",
              "    </tr>\n",
              "    <tr>\n",
              "      <th>40079</th>\n",
              "      <td>40080</td>\n",
              "      <td>06/12/2020</td>\n",
              "      <td>NaN</td>\n",
              "      <td>Andorra</td>\n",
              "      <td>2020-06-13 03:33:14</td>\n",
              "      <td>853.0</td>\n",
              "      <td>51.0</td>\n",
              "      <td>781.0</td>\n",
              "    </tr>\n",
              "    <tr>\n",
              "      <th>40080</th>\n",
              "      <td>40081</td>\n",
              "      <td>06/12/2020</td>\n",
              "      <td>NaN</td>\n",
              "      <td>Angola</td>\n",
              "      <td>2020-06-13 03:33:14</td>\n",
              "      <td>130.0</td>\n",
              "      <td>5.0</td>\n",
              "      <td>42.0</td>\n",
              "    </tr>\n",
              "    <tr>\n",
              "      <th>...</th>\n",
              "      <td>...</td>\n",
              "      <td>...</td>\n",
              "      <td>...</td>\n",
              "      <td>...</td>\n",
              "      <td>...</td>\n",
              "      <td>...</td>\n",
              "      <td>...</td>\n",
              "      <td>...</td>\n",
              "    </tr>\n",
              "    <tr>\n",
              "      <th>40800</th>\n",
              "      <td>40801</td>\n",
              "      <td>06/12/2020</td>\n",
              "      <td>Zacatecas</td>\n",
              "      <td>Mexico</td>\n",
              "      <td>2020-06-13 03:33:14</td>\n",
              "      <td>501.0</td>\n",
              "      <td>55.0</td>\n",
              "      <td>279.0</td>\n",
              "    </tr>\n",
              "    <tr>\n",
              "      <th>40801</th>\n",
              "      <td>40802</td>\n",
              "      <td>06/12/2020</td>\n",
              "      <td>Zakarpattia Oblast</td>\n",
              "      <td>Ukraine</td>\n",
              "      <td>2020-06-13 03:33:14</td>\n",
              "      <td>1506.0</td>\n",
              "      <td>38.0</td>\n",
              "      <td>675.0</td>\n",
              "    </tr>\n",
              "    <tr>\n",
              "      <th>40802</th>\n",
              "      <td>40803</td>\n",
              "      <td>06/12/2020</td>\n",
              "      <td>Zaporizhia Oblast</td>\n",
              "      <td>Ukraine</td>\n",
              "      <td>2020-06-13 03:33:14</td>\n",
              "      <td>515.0</td>\n",
              "      <td>15.0</td>\n",
              "      <td>322.0</td>\n",
              "    </tr>\n",
              "    <tr>\n",
              "      <th>40803</th>\n",
              "      <td>40804</td>\n",
              "      <td>06/12/2020</td>\n",
              "      <td>Zhejiang</td>\n",
              "      <td>Mainland China</td>\n",
              "      <td>2020-06-13 03:33:14</td>\n",
              "      <td>1268.0</td>\n",
              "      <td>1.0</td>\n",
              "      <td>1267.0</td>\n",
              "    </tr>\n",
              "    <tr>\n",
              "      <th>40804</th>\n",
              "      <td>40805</td>\n",
              "      <td>06/12/2020</td>\n",
              "      <td>Zhytomyr Oblast</td>\n",
              "      <td>Ukraine</td>\n",
              "      <td>2020-06-13 03:33:14</td>\n",
              "      <td>1013.0</td>\n",
              "      <td>17.0</td>\n",
              "      <td>527.0</td>\n",
              "    </tr>\n",
              "  </tbody>\n",
              "</table>\n",
              "<p>729 rows × 8 columns</p>\n",
              "</div>"
            ],
            "text/plain": [
              "         SNo ObservationDate      Province/State  ... Confirmed Deaths  Recovered\n",
              "40076  40077      06/12/2020                 NaN  ...   23546.0  446.0     3928.0\n",
              "40077  40078      06/12/2020                 NaN  ...    1416.0   36.0     1034.0\n",
              "40078  40079      06/12/2020                 NaN  ...   10698.0  751.0     7322.0\n",
              "40079  40080      06/12/2020                 NaN  ...     853.0   51.0      781.0\n",
              "40080  40081      06/12/2020                 NaN  ...     130.0    5.0       42.0\n",
              "...      ...             ...                 ...  ...       ...    ...        ...\n",
              "40800  40801      06/12/2020           Zacatecas  ...     501.0   55.0      279.0\n",
              "40801  40802      06/12/2020  Zakarpattia Oblast  ...    1506.0   38.0      675.0\n",
              "40802  40803      06/12/2020   Zaporizhia Oblast  ...     515.0   15.0      322.0\n",
              "40803  40804      06/12/2020            Zhejiang  ...    1268.0    1.0     1267.0\n",
              "40804  40805      06/12/2020     Zhytomyr Oblast  ...    1013.0   17.0      527.0\n",
              "\n",
              "[729 rows x 8 columns]"
            ]
          },
          "metadata": {},
          "execution_count": 49
        }
      ]
    },
    {
      "cell_type": "markdown",
      "metadata": {
        "id": "x0GG2PB61yc2"
      },
      "source": [
        "Task 3\n",
        "Create a subset of data from the dataframe updated_data, only taking the top 10 countries which have the maximum number of confirmed cases with features - 'Country/Region', 'Confirmed', 'Deaths' and 'Recovered'. Name this dataframe as 'top_10'"
      ]
    },
    {
      "cell_type": "code",
      "metadata": {
        "colab": {
          "base_uri": "https://localhost:8080/",
          "height": 424
        },
        "id": "S2Ld1gZJ11oA",
        "outputId": "3c23e6b9-40e7-41db-8968-3fe67812007c"
      },
      "source": [
        "updated_data"
      ],
      "execution_count": 91,
      "outputs": [
        {
          "output_type": "execute_result",
          "data": {
            "text/html": [
              "<div>\n",
              "<style scoped>\n",
              "    .dataframe tbody tr th:only-of-type {\n",
              "        vertical-align: middle;\n",
              "    }\n",
              "\n",
              "    .dataframe tbody tr th {\n",
              "        vertical-align: top;\n",
              "    }\n",
              "\n",
              "    .dataframe thead th {\n",
              "        text-align: right;\n",
              "    }\n",
              "</style>\n",
              "<table border=\"1\" class=\"dataframe\">\n",
              "  <thead>\n",
              "    <tr style=\"text-align: right;\">\n",
              "      <th></th>\n",
              "      <th>Last Update</th>\n",
              "      <th>Country/Region</th>\n",
              "      <th>Confirmed</th>\n",
              "      <th>Deaths</th>\n",
              "      <th>Recovered</th>\n",
              "    </tr>\n",
              "  </thead>\n",
              "  <tbody>\n",
              "    <tr>\n",
              "      <th>40076</th>\n",
              "      <td>2020-06-13 03:33:14</td>\n",
              "      <td>Afghanistan</td>\n",
              "      <td>23546.0</td>\n",
              "      <td>446.0</td>\n",
              "      <td>3928.0</td>\n",
              "    </tr>\n",
              "    <tr>\n",
              "      <th>40077</th>\n",
              "      <td>2020-06-13 03:33:14</td>\n",
              "      <td>Albania</td>\n",
              "      <td>1416.0</td>\n",
              "      <td>36.0</td>\n",
              "      <td>1034.0</td>\n",
              "    </tr>\n",
              "    <tr>\n",
              "      <th>40078</th>\n",
              "      <td>2020-06-13 03:33:14</td>\n",
              "      <td>Algeria</td>\n",
              "      <td>10698.0</td>\n",
              "      <td>751.0</td>\n",
              "      <td>7322.0</td>\n",
              "    </tr>\n",
              "    <tr>\n",
              "      <th>40079</th>\n",
              "      <td>2020-06-13 03:33:14</td>\n",
              "      <td>Andorra</td>\n",
              "      <td>853.0</td>\n",
              "      <td>51.0</td>\n",
              "      <td>781.0</td>\n",
              "    </tr>\n",
              "    <tr>\n",
              "      <th>40080</th>\n",
              "      <td>2020-06-13 03:33:14</td>\n",
              "      <td>Angola</td>\n",
              "      <td>130.0</td>\n",
              "      <td>5.0</td>\n",
              "      <td>42.0</td>\n",
              "    </tr>\n",
              "    <tr>\n",
              "      <th>...</th>\n",
              "      <td>...</td>\n",
              "      <td>...</td>\n",
              "      <td>...</td>\n",
              "      <td>...</td>\n",
              "      <td>...</td>\n",
              "    </tr>\n",
              "    <tr>\n",
              "      <th>40800</th>\n",
              "      <td>2020-06-13 03:33:14</td>\n",
              "      <td>Mexico</td>\n",
              "      <td>501.0</td>\n",
              "      <td>55.0</td>\n",
              "      <td>279.0</td>\n",
              "    </tr>\n",
              "    <tr>\n",
              "      <th>40801</th>\n",
              "      <td>2020-06-13 03:33:14</td>\n",
              "      <td>Ukraine</td>\n",
              "      <td>1506.0</td>\n",
              "      <td>38.0</td>\n",
              "      <td>675.0</td>\n",
              "    </tr>\n",
              "    <tr>\n",
              "      <th>40802</th>\n",
              "      <td>2020-06-13 03:33:14</td>\n",
              "      <td>Ukraine</td>\n",
              "      <td>515.0</td>\n",
              "      <td>15.0</td>\n",
              "      <td>322.0</td>\n",
              "    </tr>\n",
              "    <tr>\n",
              "      <th>40803</th>\n",
              "      <td>2020-06-13 03:33:14</td>\n",
              "      <td>Mainland China</td>\n",
              "      <td>1268.0</td>\n",
              "      <td>1.0</td>\n",
              "      <td>1267.0</td>\n",
              "    </tr>\n",
              "    <tr>\n",
              "      <th>40804</th>\n",
              "      <td>2020-06-13 03:33:14</td>\n",
              "      <td>Ukraine</td>\n",
              "      <td>1013.0</td>\n",
              "      <td>17.0</td>\n",
              "      <td>527.0</td>\n",
              "    </tr>\n",
              "  </tbody>\n",
              "</table>\n",
              "<p>729 rows × 5 columns</p>\n",
              "</div>"
            ],
            "text/plain": [
              "               Last Update  Country/Region  Confirmed  Deaths  Recovered\n",
              "40076  2020-06-13 03:33:14     Afghanistan    23546.0   446.0     3928.0\n",
              "40077  2020-06-13 03:33:14         Albania     1416.0    36.0     1034.0\n",
              "40078  2020-06-13 03:33:14         Algeria    10698.0   751.0     7322.0\n",
              "40079  2020-06-13 03:33:14         Andorra      853.0    51.0      781.0\n",
              "40080  2020-06-13 03:33:14          Angola      130.0     5.0       42.0\n",
              "...                    ...             ...        ...     ...        ...\n",
              "40800  2020-06-13 03:33:14          Mexico      501.0    55.0      279.0\n",
              "40801  2020-06-13 03:33:14         Ukraine     1506.0    38.0      675.0\n",
              "40802  2020-06-13 03:33:14         Ukraine      515.0    15.0      322.0\n",
              "40803  2020-06-13 03:33:14  Mainland China     1268.0     1.0     1267.0\n",
              "40804  2020-06-13 03:33:14         Ukraine     1013.0    17.0      527.0\n",
              "\n",
              "[729 rows x 5 columns]"
            ]
          },
          "metadata": {},
          "execution_count": 91
        }
      ]
    },
    {
      "cell_type": "code",
      "metadata": {
        "id": "XgQpyw8-5uKk"
      },
      "source": [
        "top_10 = updated_data.sort_values(by = 'Confirmed', ascending=False)"
      ],
      "execution_count": 94,
      "outputs": []
    },
    {
      "cell_type": "code",
      "metadata": {
        "colab": {
          "base_uri": "https://localhost:8080/",
          "height": 424
        },
        "id": "wb_SfGZr6lEv",
        "outputId": "038a3ff2-1116-42f6-8b87-f79d1216b545"
      },
      "source": [
        "top_10"
      ],
      "execution_count": 95,
      "outputs": [
        {
          "output_type": "execute_result",
          "data": {
            "text/html": [
              "<div>\n",
              "<style scoped>\n",
              "    .dataframe tbody tr th:only-of-type {\n",
              "        vertical-align: middle;\n",
              "    }\n",
              "\n",
              "    .dataframe tbody tr th {\n",
              "        vertical-align: top;\n",
              "    }\n",
              "\n",
              "    .dataframe thead th {\n",
              "        text-align: right;\n",
              "    }\n",
              "</style>\n",
              "<table border=\"1\" class=\"dataframe\">\n",
              "  <thead>\n",
              "    <tr style=\"text-align: right;\">\n",
              "      <th></th>\n",
              "      <th>Last Update</th>\n",
              "      <th>Country/Region</th>\n",
              "      <th>Confirmed</th>\n",
              "      <th>Deaths</th>\n",
              "      <th>Recovered</th>\n",
              "    </tr>\n",
              "  </thead>\n",
              "  <tbody>\n",
              "    <tr>\n",
              "      <th>40577</th>\n",
              "      <td>2020-06-13 03:33:14</td>\n",
              "      <td>US</td>\n",
              "      <td>381714.0</td>\n",
              "      <td>30758.0</td>\n",
              "      <td>0.0</td>\n",
              "    </tr>\n",
              "    <tr>\n",
              "      <th>40556</th>\n",
              "      <td>2020-06-13 03:33:14</td>\n",
              "      <td>Russia</td>\n",
              "      <td>202935.0</td>\n",
              "      <td>3187.0</td>\n",
              "      <td>118024.0</td>\n",
              "    </tr>\n",
              "    <tr>\n",
              "      <th>40131</th>\n",
              "      <td>2020-06-13 03:33:14</td>\n",
              "      <td>France</td>\n",
              "      <td>188918.0</td>\n",
              "      <td>29315.0</td>\n",
              "      <td>69578.0</td>\n",
              "    </tr>\n",
              "    <tr>\n",
              "      <th>40148</th>\n",
              "      <td>2020-06-13 03:33:14</td>\n",
              "      <td>Iran</td>\n",
              "      <td>182525.0</td>\n",
              "      <td>8659.0</td>\n",
              "      <td>144649.0</td>\n",
              "    </tr>\n",
              "    <tr>\n",
              "      <th>40233</th>\n",
              "      <td>2020-06-13 03:33:14</td>\n",
              "      <td>Turkey</td>\n",
              "      <td>175218.0</td>\n",
              "      <td>4778.0</td>\n",
              "      <td>149102.0</td>\n",
              "    </tr>\n",
              "    <tr>\n",
              "      <th>...</th>\n",
              "      <td>...</td>\n",
              "      <td>...</td>\n",
              "      <td>...</td>\n",
              "      <td>...</td>\n",
              "      <td>...</td>\n",
              "    </tr>\n",
              "    <tr>\n",
              "      <th>40753</th>\n",
              "      <td>2020-06-13 03:33:14</td>\n",
              "      <td>Peru</td>\n",
              "      <td>0.0</td>\n",
              "      <td>0.0</td>\n",
              "      <td>107133.0</td>\n",
              "    </tr>\n",
              "    <tr>\n",
              "      <th>40368</th>\n",
              "      <td>2020-06-13 03:33:14</td>\n",
              "      <td>Canada</td>\n",
              "      <td>0.0</td>\n",
              "      <td>1.0</td>\n",
              "      <td>0.0</td>\n",
              "    </tr>\n",
              "    <tr>\n",
              "      <th>40748</th>\n",
              "      <td>2020-06-13 03:33:14</td>\n",
              "      <td>Chile</td>\n",
              "      <td>0.0</td>\n",
              "      <td>0.0</td>\n",
              "      <td>131358.0</td>\n",
              "    </tr>\n",
              "    <tr>\n",
              "      <th>40754</th>\n",
              "      <td>2020-06-13 03:33:14</td>\n",
              "      <td>Spain</td>\n",
              "      <td>0.0</td>\n",
              "      <td>0.0</td>\n",
              "      <td>0.0</td>\n",
              "    </tr>\n",
              "    <tr>\n",
              "      <th>40649</th>\n",
              "      <td>2020-06-13 03:33:14</td>\n",
              "      <td>US</td>\n",
              "      <td>0.0</td>\n",
              "      <td>0.0</td>\n",
              "      <td>547386.0</td>\n",
              "    </tr>\n",
              "  </tbody>\n",
              "</table>\n",
              "<p>729 rows × 5 columns</p>\n",
              "</div>"
            ],
            "text/plain": [
              "               Last Update Country/Region  Confirmed   Deaths  Recovered\n",
              "40577  2020-06-13 03:33:14             US   381714.0  30758.0        0.0\n",
              "40556  2020-06-13 03:33:14         Russia   202935.0   3187.0   118024.0\n",
              "40131  2020-06-13 03:33:14         France   188918.0  29315.0    69578.0\n",
              "40148  2020-06-13 03:33:14           Iran   182525.0   8659.0   144649.0\n",
              "40233  2020-06-13 03:33:14         Turkey   175218.0   4778.0   149102.0\n",
              "...                    ...            ...        ...      ...        ...\n",
              "40753  2020-06-13 03:33:14           Peru        0.0      0.0   107133.0\n",
              "40368  2020-06-13 03:33:14         Canada        0.0      1.0        0.0\n",
              "40748  2020-06-13 03:33:14          Chile        0.0      0.0   131358.0\n",
              "40754  2020-06-13 03:33:14          Spain        0.0      0.0        0.0\n",
              "40649  2020-06-13 03:33:14             US        0.0      0.0   547386.0\n",
              "\n",
              "[729 rows x 5 columns]"
            ]
          },
          "metadata": {},
          "execution_count": 95
        }
      ]
    },
    {
      "cell_type": "code",
      "metadata": {
        "colab": {
          "base_uri": "https://localhost:8080/",
          "height": 363
        },
        "id": "LlHXOCLA6nsA",
        "outputId": "091237b2-8310-4445-c71b-d4c5de2d4adc"
      },
      "source": [
        "top_10.head(10)"
      ],
      "execution_count": 96,
      "outputs": [
        {
          "output_type": "execute_result",
          "data": {
            "text/html": [
              "<div>\n",
              "<style scoped>\n",
              "    .dataframe tbody tr th:only-of-type {\n",
              "        vertical-align: middle;\n",
              "    }\n",
              "\n",
              "    .dataframe tbody tr th {\n",
              "        vertical-align: top;\n",
              "    }\n",
              "\n",
              "    .dataframe thead th {\n",
              "        text-align: right;\n",
              "    }\n",
              "</style>\n",
              "<table border=\"1\" class=\"dataframe\">\n",
              "  <thead>\n",
              "    <tr style=\"text-align: right;\">\n",
              "      <th></th>\n",
              "      <th>Last Update</th>\n",
              "      <th>Country/Region</th>\n",
              "      <th>Confirmed</th>\n",
              "      <th>Deaths</th>\n",
              "      <th>Recovered</th>\n",
              "    </tr>\n",
              "  </thead>\n",
              "  <tbody>\n",
              "    <tr>\n",
              "      <th>40577</th>\n",
              "      <td>2020-06-13 03:33:14</td>\n",
              "      <td>US</td>\n",
              "      <td>381714.0</td>\n",
              "      <td>30758.0</td>\n",
              "      <td>0.0</td>\n",
              "    </tr>\n",
              "    <tr>\n",
              "      <th>40556</th>\n",
              "      <td>2020-06-13 03:33:14</td>\n",
              "      <td>Russia</td>\n",
              "      <td>202935.0</td>\n",
              "      <td>3187.0</td>\n",
              "      <td>118024.0</td>\n",
              "    </tr>\n",
              "    <tr>\n",
              "      <th>40131</th>\n",
              "      <td>2020-06-13 03:33:14</td>\n",
              "      <td>France</td>\n",
              "      <td>188918.0</td>\n",
              "      <td>29315.0</td>\n",
              "      <td>69578.0</td>\n",
              "    </tr>\n",
              "    <tr>\n",
              "      <th>40148</th>\n",
              "      <td>2020-06-13 03:33:14</td>\n",
              "      <td>Iran</td>\n",
              "      <td>182525.0</td>\n",
              "      <td>8659.0</td>\n",
              "      <td>144649.0</td>\n",
              "    </tr>\n",
              "    <tr>\n",
              "      <th>40233</th>\n",
              "      <td>2020-06-13 03:33:14</td>\n",
              "      <td>Turkey</td>\n",
              "      <td>175218.0</td>\n",
              "      <td>4778.0</td>\n",
              "      <td>149102.0</td>\n",
              "    </tr>\n",
              "    <tr>\n",
              "      <th>40678</th>\n",
              "      <td>2020-06-13 03:33:14</td>\n",
              "      <td>Brazil</td>\n",
              "      <td>167900.0</td>\n",
              "      <td>10368.0</td>\n",
              "      <td>49295.0</td>\n",
              "    </tr>\n",
              "    <tr>\n",
              "      <th>40574</th>\n",
              "      <td>2020-06-13 03:33:14</td>\n",
              "      <td>US</td>\n",
              "      <td>166164.0</td>\n",
              "      <td>12489.0</td>\n",
              "      <td>0.0</td>\n",
              "    </tr>\n",
              "    <tr>\n",
              "      <th>40377</th>\n",
              "      <td>2020-06-13 03:33:14</td>\n",
              "      <td>UK</td>\n",
              "      <td>156410.0</td>\n",
              "      <td>37069.0</td>\n",
              "      <td>0.0</td>\n",
              "    </tr>\n",
              "    <tr>\n",
              "      <th>40320</th>\n",
              "      <td>2020-06-13 03:33:14</td>\n",
              "      <td>US</td>\n",
              "      <td>146659.0</td>\n",
              "      <td>4978.0</td>\n",
              "      <td>0.0</td>\n",
              "    </tr>\n",
              "    <tr>\n",
              "      <th>40437</th>\n",
              "      <td>2020-06-13 03:33:14</td>\n",
              "      <td>US</td>\n",
              "      <td>131198.0</td>\n",
              "      <td>6260.0</td>\n",
              "      <td>0.0</td>\n",
              "    </tr>\n",
              "  </tbody>\n",
              "</table>\n",
              "</div>"
            ],
            "text/plain": [
              "               Last Update Country/Region  Confirmed   Deaths  Recovered\n",
              "40577  2020-06-13 03:33:14             US   381714.0  30758.0        0.0\n",
              "40556  2020-06-13 03:33:14         Russia   202935.0   3187.0   118024.0\n",
              "40131  2020-06-13 03:33:14         France   188918.0  29315.0    69578.0\n",
              "40148  2020-06-13 03:33:14           Iran   182525.0   8659.0   144649.0\n",
              "40233  2020-06-13 03:33:14         Turkey   175218.0   4778.0   149102.0\n",
              "40678  2020-06-13 03:33:14         Brazil   167900.0  10368.0    49295.0\n",
              "40574  2020-06-13 03:33:14             US   166164.0  12489.0        0.0\n",
              "40377  2020-06-13 03:33:14             UK   156410.0  37069.0        0.0\n",
              "40320  2020-06-13 03:33:14             US   146659.0   4978.0        0.0\n",
              "40437  2020-06-13 03:33:14             US   131198.0   6260.0        0.0"
            ]
          },
          "metadata": {},
          "execution_count": 96
        }
      ]
    },
    {
      "cell_type": "markdown",
      "metadata": {
        "id": "TxljDe9m6uLi"
      },
      "source": [
        "print the name of the countries in 'top_10' dataset"
      ]
    },
    {
      "cell_type": "code",
      "metadata": {
        "colab": {
          "base_uri": "https://localhost:8080/",
          "height": 363
        },
        "id": "4UYKrajW6vGu",
        "outputId": "836daf2e-4a7d-419e-a39f-111908c7c6b6"
      },
      "source": [
        "top_10[['Confirmed', 'Country/Region']].head(10)"
      ],
      "execution_count": 100,
      "outputs": [
        {
          "output_type": "execute_result",
          "data": {
            "text/html": [
              "<div>\n",
              "<style scoped>\n",
              "    .dataframe tbody tr th:only-of-type {\n",
              "        vertical-align: middle;\n",
              "    }\n",
              "\n",
              "    .dataframe tbody tr th {\n",
              "        vertical-align: top;\n",
              "    }\n",
              "\n",
              "    .dataframe thead th {\n",
              "        text-align: right;\n",
              "    }\n",
              "</style>\n",
              "<table border=\"1\" class=\"dataframe\">\n",
              "  <thead>\n",
              "    <tr style=\"text-align: right;\">\n",
              "      <th></th>\n",
              "      <th>Confirmed</th>\n",
              "      <th>Country/Region</th>\n",
              "    </tr>\n",
              "  </thead>\n",
              "  <tbody>\n",
              "    <tr>\n",
              "      <th>40577</th>\n",
              "      <td>381714.0</td>\n",
              "      <td>US</td>\n",
              "    </tr>\n",
              "    <tr>\n",
              "      <th>40556</th>\n",
              "      <td>202935.0</td>\n",
              "      <td>Russia</td>\n",
              "    </tr>\n",
              "    <tr>\n",
              "      <th>40131</th>\n",
              "      <td>188918.0</td>\n",
              "      <td>France</td>\n",
              "    </tr>\n",
              "    <tr>\n",
              "      <th>40148</th>\n",
              "      <td>182525.0</td>\n",
              "      <td>Iran</td>\n",
              "    </tr>\n",
              "    <tr>\n",
              "      <th>40233</th>\n",
              "      <td>175218.0</td>\n",
              "      <td>Turkey</td>\n",
              "    </tr>\n",
              "    <tr>\n",
              "      <th>40678</th>\n",
              "      <td>167900.0</td>\n",
              "      <td>Brazil</td>\n",
              "    </tr>\n",
              "    <tr>\n",
              "      <th>40574</th>\n",
              "      <td>166164.0</td>\n",
              "      <td>US</td>\n",
              "    </tr>\n",
              "    <tr>\n",
              "      <th>40377</th>\n",
              "      <td>156410.0</td>\n",
              "      <td>UK</td>\n",
              "    </tr>\n",
              "    <tr>\n",
              "      <th>40320</th>\n",
              "      <td>146659.0</td>\n",
              "      <td>US</td>\n",
              "    </tr>\n",
              "    <tr>\n",
              "      <th>40437</th>\n",
              "      <td>131198.0</td>\n",
              "      <td>US</td>\n",
              "    </tr>\n",
              "  </tbody>\n",
              "</table>\n",
              "</div>"
            ],
            "text/plain": [
              "       Confirmed Country/Region\n",
              "40577   381714.0             US\n",
              "40556   202935.0         Russia\n",
              "40131   188918.0         France\n",
              "40148   182525.0           Iran\n",
              "40233   175218.0         Turkey\n",
              "40678   167900.0         Brazil\n",
              "40574   166164.0             US\n",
              "40377   156410.0             UK\n",
              "40320   146659.0             US\n",
              "40437   131198.0             US"
            ]
          },
          "metadata": {},
          "execution_count": 100
        }
      ]
    },
    {
      "cell_type": "markdown",
      "metadata": {
        "id": "YERlvE_G7HFB"
      },
      "source": [
        "Which country has the lowest number of confirmed cases among the ten countries in top_10 dataframe? \n",
        "\n",
        "ANSWER - US"
      ]
    },
    {
      "cell_type": "markdown",
      "metadata": {
        "id": "vAmjnZdJ7d6o"
      },
      "source": [
        "Task 4\n",
        "Add two columns in 'top_10' dataframe - 'Recovered_percentage' and 'Deaths_percentage'\n",
        "where\n",
        "\n",
        "'Recovered_percentage' = (Recovered cases / Confirmed cases) * 100\n",
        "\n",
        "'Death_percentage' = (Deaths cases / Confirmed cases) * 100"
      ]
    },
    {
      "cell_type": "code",
      "metadata": {
        "id": "jpZm-1ek7h9a"
      },
      "source": [
        "top_10['Recovered_percentage'] = top_10['Recovered']/top_10['Confirmed']*100\n",
        "top_10['Death_percentage'] = top_10['Deaths']/top_10['Confirmed'] * 100"
      ],
      "execution_count": 101,
      "outputs": []
    },
    {
      "cell_type": "code",
      "metadata": {
        "colab": {
          "base_uri": "https://localhost:8080/",
          "height": 424
        },
        "id": "88XQQvdW82Nu",
        "outputId": "69afbb81-5ccf-4380-83df-6356d5fe9bd0"
      },
      "source": [
        "top_10"
      ],
      "execution_count": 102,
      "outputs": [
        {
          "output_type": "execute_result",
          "data": {
            "text/html": [
              "<div>\n",
              "<style scoped>\n",
              "    .dataframe tbody tr th:only-of-type {\n",
              "        vertical-align: middle;\n",
              "    }\n",
              "\n",
              "    .dataframe tbody tr th {\n",
              "        vertical-align: top;\n",
              "    }\n",
              "\n",
              "    .dataframe thead th {\n",
              "        text-align: right;\n",
              "    }\n",
              "</style>\n",
              "<table border=\"1\" class=\"dataframe\">\n",
              "  <thead>\n",
              "    <tr style=\"text-align: right;\">\n",
              "      <th></th>\n",
              "      <th>Last Update</th>\n",
              "      <th>Country/Region</th>\n",
              "      <th>Confirmed</th>\n",
              "      <th>Deaths</th>\n",
              "      <th>Recovered</th>\n",
              "      <th>Recovered_percentage</th>\n",
              "      <th>Death_percentage</th>\n",
              "    </tr>\n",
              "  </thead>\n",
              "  <tbody>\n",
              "    <tr>\n",
              "      <th>40577</th>\n",
              "      <td>2020-06-13 03:33:14</td>\n",
              "      <td>US</td>\n",
              "      <td>381714.0</td>\n",
              "      <td>30758.0</td>\n",
              "      <td>0.0</td>\n",
              "      <td>0.000000</td>\n",
              "      <td>8.057865</td>\n",
              "    </tr>\n",
              "    <tr>\n",
              "      <th>40556</th>\n",
              "      <td>2020-06-13 03:33:14</td>\n",
              "      <td>Russia</td>\n",
              "      <td>202935.0</td>\n",
              "      <td>3187.0</td>\n",
              "      <td>118024.0</td>\n",
              "      <td>58.158524</td>\n",
              "      <td>1.570454</td>\n",
              "    </tr>\n",
              "    <tr>\n",
              "      <th>40131</th>\n",
              "      <td>2020-06-13 03:33:14</td>\n",
              "      <td>France</td>\n",
              "      <td>188918.0</td>\n",
              "      <td>29315.0</td>\n",
              "      <td>69578.0</td>\n",
              "      <td>36.829736</td>\n",
              "      <td>15.517314</td>\n",
              "    </tr>\n",
              "    <tr>\n",
              "      <th>40148</th>\n",
              "      <td>2020-06-13 03:33:14</td>\n",
              "      <td>Iran</td>\n",
              "      <td>182525.0</td>\n",
              "      <td>8659.0</td>\n",
              "      <td>144649.0</td>\n",
              "      <td>79.248870</td>\n",
              "      <td>4.744008</td>\n",
              "    </tr>\n",
              "    <tr>\n",
              "      <th>40233</th>\n",
              "      <td>2020-06-13 03:33:14</td>\n",
              "      <td>Turkey</td>\n",
              "      <td>175218.0</td>\n",
              "      <td>4778.0</td>\n",
              "      <td>149102.0</td>\n",
              "      <td>85.095139</td>\n",
              "      <td>2.726889</td>\n",
              "    </tr>\n",
              "    <tr>\n",
              "      <th>...</th>\n",
              "      <td>...</td>\n",
              "      <td>...</td>\n",
              "      <td>...</td>\n",
              "      <td>...</td>\n",
              "      <td>...</td>\n",
              "      <td>...</td>\n",
              "      <td>...</td>\n",
              "    </tr>\n",
              "    <tr>\n",
              "      <th>40753</th>\n",
              "      <td>2020-06-13 03:33:14</td>\n",
              "      <td>Peru</td>\n",
              "      <td>0.0</td>\n",
              "      <td>0.0</td>\n",
              "      <td>107133.0</td>\n",
              "      <td>inf</td>\n",
              "      <td>NaN</td>\n",
              "    </tr>\n",
              "    <tr>\n",
              "      <th>40368</th>\n",
              "      <td>2020-06-13 03:33:14</td>\n",
              "      <td>Canada</td>\n",
              "      <td>0.0</td>\n",
              "      <td>1.0</td>\n",
              "      <td>0.0</td>\n",
              "      <td>NaN</td>\n",
              "      <td>inf</td>\n",
              "    </tr>\n",
              "    <tr>\n",
              "      <th>40748</th>\n",
              "      <td>2020-06-13 03:33:14</td>\n",
              "      <td>Chile</td>\n",
              "      <td>0.0</td>\n",
              "      <td>0.0</td>\n",
              "      <td>131358.0</td>\n",
              "      <td>inf</td>\n",
              "      <td>NaN</td>\n",
              "    </tr>\n",
              "    <tr>\n",
              "      <th>40754</th>\n",
              "      <td>2020-06-13 03:33:14</td>\n",
              "      <td>Spain</td>\n",
              "      <td>0.0</td>\n",
              "      <td>0.0</td>\n",
              "      <td>0.0</td>\n",
              "      <td>NaN</td>\n",
              "      <td>NaN</td>\n",
              "    </tr>\n",
              "    <tr>\n",
              "      <th>40649</th>\n",
              "      <td>2020-06-13 03:33:14</td>\n",
              "      <td>US</td>\n",
              "      <td>0.0</td>\n",
              "      <td>0.0</td>\n",
              "      <td>547386.0</td>\n",
              "      <td>inf</td>\n",
              "      <td>NaN</td>\n",
              "    </tr>\n",
              "  </tbody>\n",
              "</table>\n",
              "<p>729 rows × 7 columns</p>\n",
              "</div>"
            ],
            "text/plain": [
              "               Last Update  ... Death_percentage\n",
              "40577  2020-06-13 03:33:14  ...         8.057865\n",
              "40556  2020-06-13 03:33:14  ...         1.570454\n",
              "40131  2020-06-13 03:33:14  ...        15.517314\n",
              "40148  2020-06-13 03:33:14  ...         4.744008\n",
              "40233  2020-06-13 03:33:14  ...         2.726889\n",
              "...                    ...  ...              ...\n",
              "40753  2020-06-13 03:33:14  ...              NaN\n",
              "40368  2020-06-13 03:33:14  ...              inf\n",
              "40748  2020-06-13 03:33:14  ...              NaN\n",
              "40754  2020-06-13 03:33:14  ...              NaN\n",
              "40649  2020-06-13 03:33:14  ...              NaN\n",
              "\n",
              "[729 rows x 7 columns]"
            ]
          },
          "metadata": {},
          "execution_count": 102
        }
      ]
    },
    {
      "cell_type": "markdown",
      "metadata": {
        "id": "eC5eiVgA88Ro"
      },
      "source": [
        "Print the top 3 countries with highest recovery precent"
      ]
    },
    {
      "cell_type": "code",
      "metadata": {
        "colab": {
          "base_uri": "https://localhost:8080/"
        },
        "id": "JDAYmJal89GY",
        "outputId": "e12eb05a-8343-48d8-8088-368c2668458a"
      },
      "source": [
        "top_10['Recovered_percentage'].max()"
      ],
      "execution_count": 105,
      "outputs": [
        {
          "output_type": "execute_result",
          "data": {
            "text/plain": [
              "inf"
            ]
          },
          "metadata": {},
          "execution_count": 105
        }
      ]
    },
    {
      "cell_type": "markdown",
      "metadata": {
        "id": "h_Hxbo4v9Y1i"
      },
      "source": [
        "peru, chile and US"
      ]
    },
    {
      "cell_type": "markdown",
      "metadata": {
        "id": "nnUWisUx7eFz"
      },
      "source": [
        ""
      ]
    },
    {
      "cell_type": "code",
      "metadata": {
        "id": "jlWrYsK17KlS"
      },
      "source": [
        ""
      ],
      "execution_count": null,
      "outputs": []
    },
    {
      "cell_type": "markdown",
      "metadata": {
        "id": "dYZ2-tHa1Pb9"
      },
      "source": [
        ""
      ]
    },
    {
      "cell_type": "markdown",
      "metadata": {
        "id": "aJ09L5TDfkMq"
      },
      "source": [
        ""
      ]
    },
    {
      "cell_type": "code",
      "metadata": {
        "id": "qqYxRncsfRC1"
      },
      "source": [
        ""
      ],
      "execution_count": null,
      "outputs": []
    }
  ]
}